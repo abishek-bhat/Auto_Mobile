{
 "cells": [
  {
   "cell_type": "code",
   "execution_count": 1,
   "id": "cc2a544b",
   "metadata": {},
   "outputs": [],
   "source": [
    "import pandas as pd\n",
    "import numpy as np\n",
    "import seaborn as sns\n",
    "from scipy import stats\n",
    "import matplotlib.pyplot as plt\n",
    "import statsmodels.api as sm\n",
    "from scipy.stats import pearsonr\n",
    "from statsmodels.stats.proportion import proportions_ztest\n",
    "from sklearn.model_selection import train_test_split\n",
    "from sklearn.linear_model import LinearRegression"
   ]
  },
  {
   "cell_type": "code",
   "execution_count": 2,
   "id": "4c8f505b",
   "metadata": {},
   "outputs": [],
   "source": [
    "df = pd.read_csv(\"imports-85.data\",header=None,names=['symboling','normalizedLosses','make','fuelType','aspiration','numofdoors','bodyStyle','driveWheels','engineLocation','wheelBase','length','width','height','curbWeight','engineType','cylinders','engineSize','fuelSystem','bore','stroke','compRatio','horsepower','peak_rpm','city_mpg','highway_mpg','price'],na_values='?')"
   ]
  },
  {
   "cell_type": "code",
   "execution_count": 3,
   "id": "d2ad5b28",
   "metadata": {
    "scrolled": true
   },
   "outputs": [
    {
     "data": {
      "text/html": [
       "<div>\n",
       "<style scoped>\n",
       "    .dataframe tbody tr th:only-of-type {\n",
       "        vertical-align: middle;\n",
       "    }\n",
       "\n",
       "    .dataframe tbody tr th {\n",
       "        vertical-align: top;\n",
       "    }\n",
       "\n",
       "    .dataframe thead th {\n",
       "        text-align: right;\n",
       "    }\n",
       "</style>\n",
       "<table border=\"1\" class=\"dataframe\">\n",
       "  <thead>\n",
       "    <tr style=\"text-align: right;\">\n",
       "      <th></th>\n",
       "      <th>symboling</th>\n",
       "      <th>normalizedLosses</th>\n",
       "      <th>make</th>\n",
       "      <th>fuelType</th>\n",
       "      <th>aspiration</th>\n",
       "      <th>numofdoors</th>\n",
       "      <th>bodyStyle</th>\n",
       "      <th>driveWheels</th>\n",
       "      <th>engineLocation</th>\n",
       "      <th>wheelBase</th>\n",
       "      <th>...</th>\n",
       "      <th>engineSize</th>\n",
       "      <th>fuelSystem</th>\n",
       "      <th>bore</th>\n",
       "      <th>stroke</th>\n",
       "      <th>compRatio</th>\n",
       "      <th>horsepower</th>\n",
       "      <th>peak_rpm</th>\n",
       "      <th>city_mpg</th>\n",
       "      <th>highway_mpg</th>\n",
       "      <th>price</th>\n",
       "    </tr>\n",
       "  </thead>\n",
       "  <tbody>\n",
       "    <tr>\n",
       "      <th>0</th>\n",
       "      <td>3</td>\n",
       "      <td>NaN</td>\n",
       "      <td>alfa-romero</td>\n",
       "      <td>gas</td>\n",
       "      <td>std</td>\n",
       "      <td>two</td>\n",
       "      <td>convertible</td>\n",
       "      <td>rwd</td>\n",
       "      <td>front</td>\n",
       "      <td>88.6</td>\n",
       "      <td>...</td>\n",
       "      <td>130</td>\n",
       "      <td>mpfi</td>\n",
       "      <td>3.47</td>\n",
       "      <td>2.68</td>\n",
       "      <td>9.0</td>\n",
       "      <td>111.0</td>\n",
       "      <td>5000.0</td>\n",
       "      <td>21</td>\n",
       "      <td>27</td>\n",
       "      <td>13495.0</td>\n",
       "    </tr>\n",
       "    <tr>\n",
       "      <th>1</th>\n",
       "      <td>3</td>\n",
       "      <td>NaN</td>\n",
       "      <td>alfa-romero</td>\n",
       "      <td>gas</td>\n",
       "      <td>std</td>\n",
       "      <td>two</td>\n",
       "      <td>convertible</td>\n",
       "      <td>rwd</td>\n",
       "      <td>front</td>\n",
       "      <td>88.6</td>\n",
       "      <td>...</td>\n",
       "      <td>130</td>\n",
       "      <td>mpfi</td>\n",
       "      <td>3.47</td>\n",
       "      <td>2.68</td>\n",
       "      <td>9.0</td>\n",
       "      <td>111.0</td>\n",
       "      <td>5000.0</td>\n",
       "      <td>21</td>\n",
       "      <td>27</td>\n",
       "      <td>16500.0</td>\n",
       "    </tr>\n",
       "    <tr>\n",
       "      <th>2</th>\n",
       "      <td>1</td>\n",
       "      <td>NaN</td>\n",
       "      <td>alfa-romero</td>\n",
       "      <td>gas</td>\n",
       "      <td>std</td>\n",
       "      <td>two</td>\n",
       "      <td>hatchback</td>\n",
       "      <td>rwd</td>\n",
       "      <td>front</td>\n",
       "      <td>94.5</td>\n",
       "      <td>...</td>\n",
       "      <td>152</td>\n",
       "      <td>mpfi</td>\n",
       "      <td>2.68</td>\n",
       "      <td>3.47</td>\n",
       "      <td>9.0</td>\n",
       "      <td>154.0</td>\n",
       "      <td>5000.0</td>\n",
       "      <td>19</td>\n",
       "      <td>26</td>\n",
       "      <td>16500.0</td>\n",
       "    </tr>\n",
       "    <tr>\n",
       "      <th>3</th>\n",
       "      <td>2</td>\n",
       "      <td>164.0</td>\n",
       "      <td>audi</td>\n",
       "      <td>gas</td>\n",
       "      <td>std</td>\n",
       "      <td>four</td>\n",
       "      <td>sedan</td>\n",
       "      <td>fwd</td>\n",
       "      <td>front</td>\n",
       "      <td>99.8</td>\n",
       "      <td>...</td>\n",
       "      <td>109</td>\n",
       "      <td>mpfi</td>\n",
       "      <td>3.19</td>\n",
       "      <td>3.40</td>\n",
       "      <td>10.0</td>\n",
       "      <td>102.0</td>\n",
       "      <td>5500.0</td>\n",
       "      <td>24</td>\n",
       "      <td>30</td>\n",
       "      <td>13950.0</td>\n",
       "    </tr>\n",
       "    <tr>\n",
       "      <th>4</th>\n",
       "      <td>2</td>\n",
       "      <td>164.0</td>\n",
       "      <td>audi</td>\n",
       "      <td>gas</td>\n",
       "      <td>std</td>\n",
       "      <td>four</td>\n",
       "      <td>sedan</td>\n",
       "      <td>4wd</td>\n",
       "      <td>front</td>\n",
       "      <td>99.4</td>\n",
       "      <td>...</td>\n",
       "      <td>136</td>\n",
       "      <td>mpfi</td>\n",
       "      <td>3.19</td>\n",
       "      <td>3.40</td>\n",
       "      <td>8.0</td>\n",
       "      <td>115.0</td>\n",
       "      <td>5500.0</td>\n",
       "      <td>18</td>\n",
       "      <td>22</td>\n",
       "      <td>17450.0</td>\n",
       "    </tr>\n",
       "  </tbody>\n",
       "</table>\n",
       "<p>5 rows × 26 columns</p>\n",
       "</div>"
      ],
      "text/plain": [
       "   symboling  normalizedLosses         make fuelType aspiration numofdoors  \\\n",
       "0          3               NaN  alfa-romero      gas        std        two   \n",
       "1          3               NaN  alfa-romero      gas        std        two   \n",
       "2          1               NaN  alfa-romero      gas        std        two   \n",
       "3          2             164.0         audi      gas        std       four   \n",
       "4          2             164.0         audi      gas        std       four   \n",
       "\n",
       "     bodyStyle driveWheels engineLocation  wheelBase  ...  engineSize  \\\n",
       "0  convertible         rwd          front       88.6  ...         130   \n",
       "1  convertible         rwd          front       88.6  ...         130   \n",
       "2    hatchback         rwd          front       94.5  ...         152   \n",
       "3        sedan         fwd          front       99.8  ...         109   \n",
       "4        sedan         4wd          front       99.4  ...         136   \n",
       "\n",
       "   fuelSystem  bore  stroke compRatio horsepower  peak_rpm city_mpg  \\\n",
       "0        mpfi  3.47    2.68       9.0      111.0    5000.0       21   \n",
       "1        mpfi  3.47    2.68       9.0      111.0    5000.0       21   \n",
       "2        mpfi  2.68    3.47       9.0      154.0    5000.0       19   \n",
       "3        mpfi  3.19    3.40      10.0      102.0    5500.0       24   \n",
       "4        mpfi  3.19    3.40       8.0      115.0    5500.0       18   \n",
       "\n",
       "   highway_mpg    price  \n",
       "0           27  13495.0  \n",
       "1           27  16500.0  \n",
       "2           26  16500.0  \n",
       "3           30  13950.0  \n",
       "4           22  17450.0  \n",
       "\n",
       "[5 rows x 26 columns]"
      ]
     },
     "execution_count": 3,
     "metadata": {},
     "output_type": "execute_result"
    }
   ],
   "source": [
    "df.head()"
   ]
  },
  {
   "cell_type": "code",
   "execution_count": 4,
   "id": "071ac4a8",
   "metadata": {},
   "outputs": [
    {
     "data": {
      "text/plain": [
       "symboling            0\n",
       "normalizedLosses    41\n",
       "make                 0\n",
       "fuelType             0\n",
       "aspiration           0\n",
       "numofdoors           2\n",
       "bodyStyle            0\n",
       "driveWheels          0\n",
       "engineLocation       0\n",
       "wheelBase            0\n",
       "length               0\n",
       "width                0\n",
       "height               0\n",
       "curbWeight           0\n",
       "engineType           0\n",
       "cylinders            0\n",
       "engineSize           0\n",
       "fuelSystem           0\n",
       "bore                 4\n",
       "stroke               4\n",
       "compRatio            0\n",
       "horsepower           2\n",
       "peak_rpm             2\n",
       "city_mpg             0\n",
       "highway_mpg          0\n",
       "price                4\n",
       "dtype: int64"
      ]
     },
     "execution_count": 4,
     "metadata": {},
     "output_type": "execute_result"
    }
   ],
   "source": [
    "df.isnull().sum()"
   ]
  },
  {
   "cell_type": "code",
   "execution_count": 5,
   "id": "fd656fe8",
   "metadata": {},
   "outputs": [
    {
     "name": "stdout",
     "output_type": "stream",
     "text": [
      "<class 'pandas.core.frame.DataFrame'>\n",
      "RangeIndex: 205 entries, 0 to 204\n",
      "Data columns (total 26 columns):\n",
      " #   Column            Non-Null Count  Dtype  \n",
      "---  ------            --------------  -----  \n",
      " 0   symboling         205 non-null    int64  \n",
      " 1   normalizedLosses  164 non-null    float64\n",
      " 2   make              205 non-null    object \n",
      " 3   fuelType          205 non-null    object \n",
      " 4   aspiration        205 non-null    object \n",
      " 5   numofdoors        203 non-null    object \n",
      " 6   bodyStyle         205 non-null    object \n",
      " 7   driveWheels       205 non-null    object \n",
      " 8   engineLocation    205 non-null    object \n",
      " 9   wheelBase         205 non-null    float64\n",
      " 10  length            205 non-null    float64\n",
      " 11  width             205 non-null    float64\n",
      " 12  height            205 non-null    float64\n",
      " 13  curbWeight        205 non-null    int64  \n",
      " 14  engineType        205 non-null    object \n",
      " 15  cylinders         205 non-null    object \n",
      " 16  engineSize        205 non-null    int64  \n",
      " 17  fuelSystem        205 non-null    object \n",
      " 18  bore              201 non-null    float64\n",
      " 19  stroke            201 non-null    float64\n",
      " 20  compRatio         205 non-null    float64\n",
      " 21  horsepower        203 non-null    float64\n",
      " 22  peak_rpm          203 non-null    float64\n",
      " 23  city_mpg          205 non-null    int64  \n",
      " 24  highway_mpg       205 non-null    int64  \n",
      " 25  price             201 non-null    float64\n",
      "dtypes: float64(11), int64(5), object(10)\n",
      "memory usage: 41.8+ KB\n"
     ]
    }
   ],
   "source": [
    "df.info()"
   ]
  },
  {
   "cell_type": "code",
   "execution_count": 6,
   "id": "68f87c76",
   "metadata": {},
   "outputs": [],
   "source": [
    "df.normalizedLosses.fillna(df.normalizedLosses.mean(),inplace=True)"
   ]
  },
  {
   "cell_type": "code",
   "execution_count": 7,
   "id": "71053cbb",
   "metadata": {},
   "outputs": [],
   "source": [
    "df.numofdoors.fillna(df.numofdoors.mode().max(),inplace=True)"
   ]
  },
  {
   "cell_type": "code",
   "execution_count": 8,
   "id": "1f2eb2fb",
   "metadata": {},
   "outputs": [],
   "source": [
    "df.bore.fillna(df.bore.median(),inplace=True)"
   ]
  },
  {
   "cell_type": "code",
   "execution_count": 9,
   "id": "98c6d68c",
   "metadata": {},
   "outputs": [],
   "source": [
    "df.stroke.fillna(df.stroke.mean(),inplace=True)"
   ]
  },
  {
   "cell_type": "code",
   "execution_count": 10,
   "id": "c258c004",
   "metadata": {},
   "outputs": [],
   "source": [
    "df.horsepower.fillna(df.horsepower.mean(),inplace=True)"
   ]
  },
  {
   "cell_type": "code",
   "execution_count": 11,
   "id": "f8bb756e",
   "metadata": {},
   "outputs": [],
   "source": [
    "df.peak_rpm.fillna(df.peak_rpm.mean(),inplace=True)"
   ]
  },
  {
   "cell_type": "code",
   "execution_count": 12,
   "id": "18813025",
   "metadata": {},
   "outputs": [],
   "source": [
    "df.price.fillna(df.price.mean(),inplace=True)"
   ]
  },
  {
   "cell_type": "code",
   "execution_count": 13,
   "id": "cbc04f1f",
   "metadata": {},
   "outputs": [
    {
     "data": {
      "text/plain": [
       "symboling           0\n",
       "normalizedLosses    0\n",
       "make                0\n",
       "fuelType            0\n",
       "aspiration          0\n",
       "numofdoors          0\n",
       "bodyStyle           0\n",
       "driveWheels         0\n",
       "engineLocation      0\n",
       "wheelBase           0\n",
       "length              0\n",
       "width               0\n",
       "height              0\n",
       "curbWeight          0\n",
       "engineType          0\n",
       "cylinders           0\n",
       "engineSize          0\n",
       "fuelSystem          0\n",
       "bore                0\n",
       "stroke              0\n",
       "compRatio           0\n",
       "horsepower          0\n",
       "peak_rpm            0\n",
       "city_mpg            0\n",
       "highway_mpg         0\n",
       "price               0\n",
       "dtype: int64"
      ]
     },
     "execution_count": 13,
     "metadata": {},
     "output_type": "execute_result"
    }
   ],
   "source": [
    "df.isnull().sum()"
   ]
  },
  {
   "cell_type": "code",
   "execution_count": 14,
   "id": "6e9964be",
   "metadata": {},
   "outputs": [
    {
     "data": {
      "text/plain": [
       "(-0.08220143736318973, 0.24130433124264047)"
      ]
     },
     "execution_count": 14,
     "metadata": {},
     "output_type": "execute_result"
    }
   ],
   "source": [
    "pearsonr(df.symboling,df.price)"
   ]
  },
  {
   "cell_type": "code",
   "execution_count": 15,
   "id": "2409a1b2",
   "metadata": {},
   "outputs": [
    {
     "data": {
      "text/plain": [
       "(0.13399873429274337, 0.05543057826318259)"
      ]
     },
     "execution_count": 15,
     "metadata": {},
     "output_type": "execute_result"
    }
   ],
   "source": [
    "pearsonr(df.normalizedLosses,df.price)"
   ]
  },
  {
   "cell_type": "code",
   "execution_count": 16,
   "id": "a785ee5c",
   "metadata": {},
   "outputs": [
    {
     "data": {
      "text/plain": [
       "(0.5831681499789547, 4.527625545686765e-20)"
      ]
     },
     "execution_count": 16,
     "metadata": {},
     "output_type": "execute_result"
    }
   ],
   "source": [
    "pearsonr(df.wheelBase,df.price)"
   ]
  },
  {
   "cell_type": "code",
   "execution_count": 17,
   "id": "213d8a09",
   "metadata": {},
   "outputs": [
    {
     "data": {
      "text/plain": [
       "(0.6829862954386219, 1.6498873291218535e-29)"
      ]
     },
     "execution_count": 17,
     "metadata": {},
     "output_type": "execute_result"
    }
   ],
   "source": [
    "pearsonr(df.length,df.price)"
   ]
  },
  {
   "cell_type": "code",
   "execution_count": 18,
   "id": "2f70294b",
   "metadata": {},
   "outputs": [
    {
     "data": {
      "text/plain": [
       "(0.7286988175931839, 3.214520483804664e-35)"
      ]
     },
     "execution_count": 18,
     "metadata": {},
     "output_type": "execute_result"
    }
   ],
   "source": [
    "pearsonr(df.width,df.price)"
   ]
  },
  {
   "cell_type": "code",
   "execution_count": 19,
   "id": "06406f53",
   "metadata": {},
   "outputs": [
    {
     "data": {
      "text/plain": [
       "(0.13438751871051807, 0.05471982048424776)"
      ]
     },
     "execution_count": 19,
     "metadata": {},
     "output_type": "execute_result"
    }
   ],
   "source": [
    "pearsonr(df.height,df.price)"
   ]
  },
  {
   "cell_type": "code",
   "execution_count": 20,
   "id": "e33a5122",
   "metadata": {},
   "outputs": [
    {
     "data": {
      "text/plain": [
       "(0.820824733354729, 2.8663321070270534e-51)"
      ]
     },
     "execution_count": 20,
     "metadata": {},
     "output_type": "execute_result"
    }
   ],
   "source": [
    "pearsonr(df.curbWeight,df.price)"
   ]
  },
  {
   "cell_type": "code",
   "execution_count": 21,
   "id": "4ad9ca1d",
   "metadata": {},
   "outputs": [
    {
     "data": {
      "text/plain": [
       "(0.8617522436859721, 9.669661923634776e-62)"
      ]
     },
     "execution_count": 21,
     "metadata": {},
     "output_type": "execute_result"
    }
   ],
   "source": [
    "pearsonr(df.engineSize,df.price)"
   ]
  },
  {
   "cell_type": "code",
   "execution_count": 22,
   "id": "aed66bbd",
   "metadata": {},
   "outputs": [
    {
     "data": {
      "text/plain": [
       "(0.5323068133842814, 2.13761337330923e-16)"
      ]
     },
     "execution_count": 22,
     "metadata": {},
     "output_type": "execute_result"
    }
   ],
   "source": [
    "pearsonr(df.bore,df.price)"
   ]
  },
  {
   "cell_type": "code",
   "execution_count": 23,
   "id": "d076e911",
   "metadata": {},
   "outputs": [
    {
     "data": {
      "text/plain": [
       "(0.08209529554134327, 0.24191456857746316)"
      ]
     },
     "execution_count": 23,
     "metadata": {},
     "output_type": "execute_result"
    }
   ],
   "source": [
    "pearsonr(df.stroke,df.price)"
   ]
  },
  {
   "cell_type": "code",
   "execution_count": 24,
   "id": "0a0a1c9e",
   "metadata": {},
   "outputs": [
    {
     "data": {
      "text/plain": [
       "(0.07099036277901556, 0.31178249194905244)"
      ]
     },
     "execution_count": 24,
     "metadata": {},
     "output_type": "execute_result"
    }
   ],
   "source": [
    "pearsonr(df.compRatio,df.price)"
   ]
  },
  {
   "cell_type": "code",
   "execution_count": 25,
   "id": "f0204485",
   "metadata": {},
   "outputs": [
    {
     "data": {
      "text/plain": [
       "(0.7579169537498177, 1.6076703978130332e-39)"
      ]
     },
     "execution_count": 25,
     "metadata": {},
     "output_type": "execute_result"
    }
   ],
   "source": [
    "pearsonr(df.horsepower,df.price)"
   ]
  },
  {
   "cell_type": "code",
   "execution_count": 26,
   "id": "edf1b79e",
   "metadata": {},
   "outputs": [
    {
     "data": {
      "text/plain": [
       "(-0.10085406591169085, 0.15019246954232154)"
      ]
     },
     "execution_count": 26,
     "metadata": {},
     "output_type": "execute_result"
    }
   ],
   "source": [
    "pearsonr(df.peak_rpm,df.price)"
   ]
  },
  {
   "cell_type": "code",
   "execution_count": 27,
   "id": "213c1ea2",
   "metadata": {},
   "outputs": [
    {
     "data": {
      "text/plain": [
       "(-0.6674492651600004, 8.463700497727807e-28)"
      ]
     },
     "execution_count": 27,
     "metadata": {},
     "output_type": "execute_result"
    }
   ],
   "source": [
    "pearsonr(df.city_mpg,df.price)"
   ]
  },
  {
   "cell_type": "code",
   "execution_count": 28,
   "id": "53a3ae2b",
   "metadata": {},
   "outputs": [
    {
     "data": {
      "text/plain": [
       "(-0.6905257341183488, 2.23246740583743e-30)"
      ]
     },
     "execution_count": 28,
     "metadata": {},
     "output_type": "execute_result"
    }
   ],
   "source": [
    "pearsonr(df.highway_mpg,df.price)"
   ]
  },
  {
   "cell_type": "code",
   "execution_count": 29,
   "id": "dfe1681e",
   "metadata": {},
   "outputs": [
    {
     "data": {
      "text/plain": [
       "F_onewayResult(statistic=2.4958589760681935, pvalue=0.11570297526361666)"
      ]
     },
     "execution_count": 29,
     "metadata": {},
     "output_type": "execute_result"
    }
   ],
   "source": [
    "stats.f_oneway(df.price[df.fuelType=='gas'],df.price[df.fuelType=='diesel'])"
   ]
  },
  {
   "cell_type": "code",
   "execution_count": 30,
   "id": "5831728b",
   "metadata": {},
   "outputs": [
    {
     "data": {
      "text/plain": [
       "F_onewayResult(statistic=6.587289855140993, pvalue=0.010991046478632666)"
      ]
     },
     "execution_count": 30,
     "metadata": {},
     "output_type": "execute_result"
    }
   ],
   "source": [
    "stats.f_oneway(df.price[df.aspiration=='std'],df.price[df.aspiration=='turbo'])"
   ]
  },
  {
   "cell_type": "code",
   "execution_count": 31,
   "id": "10aaed90",
   "metadata": {},
   "outputs": [
    {
     "data": {
      "text/plain": [
       "F_onewayResult(statistic=0.35778516571700403, pvalue=0.5504056367624801)"
      ]
     },
     "execution_count": 31,
     "metadata": {},
     "output_type": "execute_result"
    }
   ],
   "source": [
    "stats.f_oneway(df.price[df.numofdoors=='four'],df.price[df.numofdoors=='two'])"
   ]
  },
  {
   "cell_type": "code",
   "execution_count": 32,
   "id": "eb5d21db",
   "metadata": {},
   "outputs": [
    {
     "data": {
      "text/plain": [
       "F_onewayResult(statistic=67.5036668266912, pvalue=3.5392707916047903e-23)"
      ]
     },
     "execution_count": 32,
     "metadata": {},
     "output_type": "execute_result"
    }
   ],
   "source": [
    "stats.f_oneway(df.price[df.driveWheels=='fwd'],df.price[df.driveWheels=='rwd'],df.price[df.driveWheels=='4wd'])"
   ]
  },
  {
   "cell_type": "code",
   "execution_count": 33,
   "id": "7f777797",
   "metadata": {},
   "outputs": [
    {
     "data": {
      "text/plain": [
       "F_onewayResult(statistic=9.183927252573389, pvalue=7.844575720929884e-07)"
      ]
     },
     "execution_count": 33,
     "metadata": {},
     "output_type": "execute_result"
    }
   ],
   "source": [
    "stats.f_oneway(df.price[df.bodyStyle=='convertible'],df.price[df.bodyStyle=='hatchback'],df.price[df.bodyStyle=='sedan'],df.price[df.bodyStyle=='wagon'],df.price[df.bodyStyle=='hardtop'])"
   ]
  },
  {
   "cell_type": "code",
   "execution_count": 34,
   "id": "8eca5291",
   "metadata": {},
   "outputs": [
    {
     "data": {
      "text/plain": [
       "F_onewayResult(statistic=24.979629190446918, pvalue=1.2486063656822578e-06)"
      ]
     },
     "execution_count": 34,
     "metadata": {},
     "output_type": "execute_result"
    }
   ],
   "source": [
    "stats.f_oneway(df.price[df.engineLocation=='front'],df.price[df.engineLocation=='rear'])"
   ]
  },
  {
   "cell_type": "code",
   "execution_count": 35,
   "id": "97838ed3",
   "metadata": {},
   "outputs": [
    {
     "data": {
      "text/plain": [
       "F_onewayResult(statistic=8.880041876905345, pvalue=1.3919774978921531e-07)"
      ]
     },
     "execution_count": 35,
     "metadata": {},
     "output_type": "execute_result"
    }
   ],
   "source": [
    "stats.f_oneway(df.price[df.engineType=='ohc'],df.price[df.engineType=='ohcf'],df.price[df.engineType=='ohcv'],df.price[df.engineType=='l'],df.price[df.engineType=='rotor'],df.price[df.engineType=='dohcv'])"
   ]
  },
  {
   "cell_type": "code",
   "execution_count": 36,
   "id": "73f423af",
   "metadata": {},
   "outputs": [
    {
     "data": {
      "text/plain": [
       "F_onewayResult(statistic=45.72705376201727, pvalue=7.149269882584999e-35)"
      ]
     },
     "execution_count": 36,
     "metadata": {},
     "output_type": "execute_result"
    }
   ],
   "source": [
    "stats.f_oneway(df.price[df.cylinders=='four'],df.price[df.cylinders=='six'],df.price[df.cylinders=='five'],df.price[df.cylinders=='eight'],df.price[df.cylinders=='two'],df.price[df.cylinders=='three'],df.price[df.cylinders=='twelve'])"
   ]
  },
  {
   "cell_type": "code",
   "execution_count": 37,
   "id": "a4d03331",
   "metadata": {},
   "outputs": [
    {
     "data": {
      "text/plain": [
       "F_onewayResult(statistic=14.797402090222409, pvalue=1.8657347748825717e-15)"
      ]
     },
     "execution_count": 37,
     "metadata": {},
     "output_type": "execute_result"
    }
   ],
   "source": [
    "stats.f_oneway(df.price[df.fuelSystem=='mpfi'],df.price[df.fuelSystem=='2bbl'],df.price[df.fuelSystem=='idi'],df.price[df.fuelSystem=='1bbl'],df.price[df.fuelSystem=='spdi'],df.price[df.fuelSystem=='4bbl'],df.price[df.fuelSystem=='mfi'],df.price[df.fuelSystem=='spfi'])"
   ]
  },
  {
   "cell_type": "markdown",
   "id": "38ef98eb",
   "metadata": {},
   "source": [
    "### Columns that Not affects price:\n",
    "\n",
    "symboling, normalizedLosses, make, height, numofdoors, stroke, compRatio, peak_rpm, fuelType "
   ]
  },
  {
   "cell_type": "code",
   "execution_count": 38,
   "id": "aefcb85b",
   "metadata": {},
   "outputs": [],
   "source": [
    "df.drop(['symboling','normalizedLosses','make','height','numofdoors','stroke','compRatio','peak_rpm','fuelType'],axis=1,inplace=True)"
   ]
  },
  {
   "cell_type": "code",
   "execution_count": 39,
   "id": "f22d2976",
   "metadata": {},
   "outputs": [
    {
     "data": {
      "text/plain": [
       "Index(['aspiration', 'bodyStyle', 'driveWheels', 'engineLocation', 'wheelBase',\n",
       "       'length', 'width', 'curbWeight', 'engineType', 'cylinders',\n",
       "       'engineSize', 'fuelSystem', 'bore', 'horsepower', 'city_mpg',\n",
       "       'highway_mpg', 'price'],\n",
       "      dtype='object')"
      ]
     },
     "execution_count": 39,
     "metadata": {},
     "output_type": "execute_result"
    }
   ],
   "source": [
    "df.columns"
   ]
  },
  {
   "cell_type": "code",
   "execution_count": 40,
   "id": "22967aa9",
   "metadata": {},
   "outputs": [
    {
     "name": "stdout",
     "output_type": "stream",
     "text": [
      "<class 'pandas.core.frame.DataFrame'>\n",
      "RangeIndex: 205 entries, 0 to 204\n",
      "Data columns (total 17 columns):\n",
      " #   Column          Non-Null Count  Dtype  \n",
      "---  ------          --------------  -----  \n",
      " 0   aspiration      205 non-null    object \n",
      " 1   bodyStyle       205 non-null    object \n",
      " 2   driveWheels     205 non-null    object \n",
      " 3   engineLocation  205 non-null    object \n",
      " 4   wheelBase       205 non-null    float64\n",
      " 5   length          205 non-null    float64\n",
      " 6   width           205 non-null    float64\n",
      " 7   curbWeight      205 non-null    int64  \n",
      " 8   engineType      205 non-null    object \n",
      " 9   cylinders       205 non-null    object \n",
      " 10  engineSize      205 non-null    int64  \n",
      " 11  fuelSystem      205 non-null    object \n",
      " 12  bore            205 non-null    float64\n",
      " 13  horsepower      205 non-null    float64\n",
      " 14  city_mpg        205 non-null    int64  \n",
      " 15  highway_mpg     205 non-null    int64  \n",
      " 16  price           205 non-null    float64\n",
      "dtypes: float64(6), int64(4), object(7)\n",
      "memory usage: 27.4+ KB\n"
     ]
    }
   ],
   "source": [
    "df.info()"
   ]
  },
  {
   "cell_type": "code",
   "execution_count": 42,
   "id": "26f23c6b",
   "metadata": {},
   "outputs": [],
   "source": [
    "df=pd.get_dummies(df)"
   ]
  },
  {
   "cell_type": "code",
   "execution_count": 43,
   "id": "09bc0e70",
   "metadata": {},
   "outputs": [
    {
     "name": "stdout",
     "output_type": "stream",
     "text": [
      "<class 'pandas.core.frame.DataFrame'>\n",
      "RangeIndex: 205 entries, 0 to 204\n",
      "Data columns (total 44 columns):\n",
      " #   Column                 Non-Null Count  Dtype  \n",
      "---  ------                 --------------  -----  \n",
      " 0   wheelBase              205 non-null    float64\n",
      " 1   length                 205 non-null    float64\n",
      " 2   width                  205 non-null    float64\n",
      " 3   curbWeight             205 non-null    int64  \n",
      " 4   engineSize             205 non-null    int64  \n",
      " 5   bore                   205 non-null    float64\n",
      " 6   horsepower             205 non-null    float64\n",
      " 7   city_mpg               205 non-null    int64  \n",
      " 8   highway_mpg            205 non-null    int64  \n",
      " 9   price                  205 non-null    float64\n",
      " 10  aspiration_std         205 non-null    uint8  \n",
      " 11  aspiration_turbo       205 non-null    uint8  \n",
      " 12  bodyStyle_convertible  205 non-null    uint8  \n",
      " 13  bodyStyle_hardtop      205 non-null    uint8  \n",
      " 14  bodyStyle_hatchback    205 non-null    uint8  \n",
      " 15  bodyStyle_sedan        205 non-null    uint8  \n",
      " 16  bodyStyle_wagon        205 non-null    uint8  \n",
      " 17  driveWheels_4wd        205 non-null    uint8  \n",
      " 18  driveWheels_fwd        205 non-null    uint8  \n",
      " 19  driveWheels_rwd        205 non-null    uint8  \n",
      " 20  engineLocation_front   205 non-null    uint8  \n",
      " 21  engineLocation_rear    205 non-null    uint8  \n",
      " 22  engineType_dohc        205 non-null    uint8  \n",
      " 23  engineType_dohcv       205 non-null    uint8  \n",
      " 24  engineType_l           205 non-null    uint8  \n",
      " 25  engineType_ohc         205 non-null    uint8  \n",
      " 26  engineType_ohcf        205 non-null    uint8  \n",
      " 27  engineType_ohcv        205 non-null    uint8  \n",
      " 28  engineType_rotor       205 non-null    uint8  \n",
      " 29  cylinders_eight        205 non-null    uint8  \n",
      " 30  cylinders_five         205 non-null    uint8  \n",
      " 31  cylinders_four         205 non-null    uint8  \n",
      " 32  cylinders_six          205 non-null    uint8  \n",
      " 33  cylinders_three        205 non-null    uint8  \n",
      " 34  cylinders_twelve       205 non-null    uint8  \n",
      " 35  cylinders_two          205 non-null    uint8  \n",
      " 36  fuelSystem_1bbl        205 non-null    uint8  \n",
      " 37  fuelSystem_2bbl        205 non-null    uint8  \n",
      " 38  fuelSystem_4bbl        205 non-null    uint8  \n",
      " 39  fuelSystem_idi         205 non-null    uint8  \n",
      " 40  fuelSystem_mfi         205 non-null    uint8  \n",
      " 41  fuelSystem_mpfi        205 non-null    uint8  \n",
      " 42  fuelSystem_spdi        205 non-null    uint8  \n",
      " 43  fuelSystem_spfi        205 non-null    uint8  \n",
      "dtypes: float64(6), int64(4), uint8(34)\n",
      "memory usage: 22.9 KB\n"
     ]
    }
   ],
   "source": [
    "df.info()"
   ]
  },
  {
   "cell_type": "code",
   "execution_count": 44,
   "id": "095216b7",
   "metadata": {},
   "outputs": [],
   "source": [
    "x = df.drop(['price'],axis=1)"
   ]
  },
  {
   "cell_type": "code",
   "execution_count": 45,
   "id": "5eb5716c",
   "metadata": {},
   "outputs": [],
   "source": [
    "y = df['price']"
   ]
  },
  {
   "cell_type": "code",
   "execution_count": 46,
   "id": "e9baa7ed",
   "metadata": {},
   "outputs": [],
   "source": [
    "train_x,test_x,train_y,test_y= train_test_split(x,y,test_size=0.2,random_state=42)"
   ]
  },
  {
   "cell_type": "code",
   "execution_count": 47,
   "id": "85771954",
   "metadata": {},
   "outputs": [
    {
     "data": {
      "text/plain": [
       "LinearRegression()"
      ]
     },
     "execution_count": 47,
     "metadata": {},
     "output_type": "execute_result"
    }
   ],
   "source": [
    "model = LinearRegression()\n",
    "model.fit(train_x,train_y)"
   ]
  },
  {
   "cell_type": "code",
   "execution_count": 48,
   "id": "286fa8fa",
   "metadata": {},
   "outputs": [],
   "source": [
    "predictions = model.predict(test_x)"
   ]
  },
  {
   "cell_type": "code",
   "execution_count": 49,
   "id": "eac72554",
   "metadata": {},
   "outputs": [
    {
     "data": {
      "text/plain": [
       "array([ 2.58099535e+04,  2.09769551e+04,  1.09153868e+04,  1.15238665e+04,\n",
       "        2.69752815e+04,  5.68116409e+03,  7.71763062e+03,  8.07753161e+03,\n",
       "        8.79434430e+03,  9.17163562e+03,  1.67840973e+04,  7.86741739e+03,\n",
       "        1.70482342e+04,  1.11230070e+04,  4.30210851e+04,  6.17196882e+03,\n",
       "       -4.10697297e+00,  1.37122133e+04,  1.13264635e+04,  1.00905565e+04,\n",
       "        1.14158330e+04,  1.58924420e+04,  4.82047732e+03,  4.03720490e+03,\n",
       "        7.58609895e+03,  2.67291985e+04,  1.26796324e+04,  1.56238784e+04,\n",
       "        4.85743022e+03,  1.67639206e+04,  2.75441178e+04,  6.19114136e+03,\n",
       "        6.00519466e+03,  1.75429504e+04,  6.56364644e+03,  2.48796029e+04,\n",
       "        1.23754594e+04,  1.27323627e+04,  6.62231162e+03,  1.41576350e+04,\n",
       "        7.07101040e+03])"
      ]
     },
     "execution_count": 49,
     "metadata": {},
     "output_type": "execute_result"
    }
   ],
   "source": [
    "predictions"
   ]
  },
  {
   "cell_type": "code",
   "execution_count": 50,
   "id": "65be2789",
   "metadata": {},
   "outputs": [],
   "source": [
    "score = str(model.score(test_x,test_y))"
   ]
  },
  {
   "cell_type": "code",
   "execution_count": 51,
   "id": "fe77cc32",
   "metadata": {},
   "outputs": [
    {
     "data": {
      "text/plain": [
       "'0.8364728664975493'"
      ]
     },
     "execution_count": 51,
     "metadata": {},
     "output_type": "execute_result"
    }
   ],
   "source": [
    "score"
   ]
  }
 ],
 "metadata": {
  "kernelspec": {
   "display_name": "Python 3 (ipykernel)",
   "language": "python",
   "name": "python3"
  },
  "language_info": {
   "codemirror_mode": {
    "name": "ipython",
    "version": 3
   },
   "file_extension": ".py",
   "mimetype": "text/x-python",
   "name": "python",
   "nbconvert_exporter": "python",
   "pygments_lexer": "ipython3",
   "version": "3.9.7"
  }
 },
 "nbformat": 4,
 "nbformat_minor": 5
}
